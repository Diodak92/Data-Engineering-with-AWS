{
 "cells": [
  {
   "cell_type": "markdown",
   "metadata": {},
   "source": [
    "# Part I. ETL Pipeline for Pre-Processing the Files"
   ]
  },
  {
   "cell_type": "markdown",
   "metadata": {},
   "source": [
    "## PLEASE RUN THE FOLLOWING CODE FOR PRE-PROCESSING THE FILES"
   ]
  },
  {
   "cell_type": "markdown",
   "metadata": {},
   "source": [
    "#### Import Python packages "
   ]
  },
  {
   "cell_type": "code",
   "execution_count": 1,
   "metadata": {},
   "outputs": [],
   "source": [
    "# Import Python packages \n",
    "import pandas as pd\n",
    "import cassandra\n",
    "from cassandra.cluster import Cluster\n",
    "from cassandra.query import dict_factory\n",
    "import os\n",
    "import glob\n",
    "import csv"
   ]
  },
  {
   "cell_type": "markdown",
   "metadata": {},
   "source": [
    "#### Creating list of filepaths to process original event csv data files"
   ]
  },
  {
   "cell_type": "code",
   "execution_count": 2,
   "metadata": {},
   "outputs": [
    {
     "name": "stdout",
     "output_type": "stream",
     "text": [
      "/Users/tomaszkowalski/Documents/LearningNewThings/Data-Engineering-with-AWS/data_modeling_project_1\n"
     ]
    }
   ],
   "source": [
    "# checking your current working directory\n",
    "print(os.getcwd())\n",
    "\n",
    "# Get your current folder and subfolder event data\n",
    "filepath = os.getcwd() + '/event_data'\n",
    "\n",
    "# Create a for loop to create a list of files and collect each filepath\n",
    "for root, dirs, files in os.walk(filepath):\n",
    "    \n",
    "# join the file path and roots with the subdirectories using glob\n",
    "    file_path_list = glob.glob(os.path.join(root,'*'))\n",
    "    #print(file_path_list)\n",
    "#for count, file in enumerate(file_path_list):\n",
    "#    print(f'{count+1}. {file}')"
   ]
  },
  {
   "cell_type": "markdown",
   "metadata": {},
   "source": [
    "#### Processing the files to create the data file csv that will be used for Apache Casssandra tables"
   ]
  },
  {
   "cell_type": "code",
   "execution_count": 3,
   "metadata": {},
   "outputs": [
    {
     "name": "stdout",
     "output_type": "stream",
     "text": [
      "8056\n"
     ]
    }
   ],
   "source": [
    "# initiating an empty list of rows that will be generated from each file\n",
    "full_data_rows_list = [] \n",
    "    \n",
    "# for every filepath in the file path list \n",
    "for f in file_path_list:\n",
    "\n",
    "# reading csv file \n",
    "    with open(f, 'r', encoding = 'utf8', newline='') as csvfile: \n",
    "        # creating a csv reader object \n",
    "        csvreader = csv.reader(csvfile) \n",
    "        next(csvreader)\n",
    "        \n",
    " # extracting each data row one by one and append it        \n",
    "        for line in csvreader:\n",
    "            #print(line)\n",
    "            full_data_rows_list.append(line) \n",
    "            \n",
    "# uncomment the code below if you would like to get total number of rows \n",
    "print(len(full_data_rows_list))\n",
    "# uncomment the code below if you would like to check to see what the list of event data rows will look like\n",
    "#print(full_data_rows_list)\n",
    "\n",
    "# creating a smaller event data csv file called event_datafile_full csv that will be used to insert data into the \\\n",
    "# Apache Cassandra tables\n",
    "csv.register_dialect('myDialect', quoting=csv.QUOTE_ALL, skipinitialspace=True)\n",
    "\n",
    "with open('event_datafile_new.csv', 'w', encoding = 'utf8', newline='') as f:\n",
    "    writer = csv.writer(f, dialect='myDialect')\n",
    "    writer.writerow(['artist','firstName','gender','itemInSession','lastName','length',\\\n",
    "                'level','location','sessionId','song','userId'])\n",
    "    for row in full_data_rows_list:\n",
    "        if (row[0] == ''):\n",
    "            continue\n",
    "        writer.writerow((row[0], row[2], row[3], row[4], row[5], row[6], row[7], row[8], row[12], row[13], row[16]))"
   ]
  },
  {
   "cell_type": "code",
   "execution_count": 4,
   "metadata": {},
   "outputs": [
    {
     "name": "stdout",
     "output_type": "stream",
     "text": [
      "6820\n"
     ]
    }
   ],
   "source": [
    "# check the number of rows in your csv file\n",
    "#with open('event_datafile_new.csv', 'r', encoding = 'utf8') as f:\n",
    "#    print(sum(1 for line in f))\n",
    "print(len(pd.read_csv('event_datafile_new.csv')))"
   ]
  },
  {
   "cell_type": "markdown",
   "metadata": {},
   "source": [
    "# Part II. Complete the Apache Cassandra coding portion of your project. \n",
    "\n",
    "## Now you are ready to work with the CSV file titled <font color=red>event_datafile_new.csv</font>, located within the Workspace directory.  The event_datafile_new.csv contains the following columns: \n",
    "- artist \n",
    "- firstName of user\n",
    "- gender of user\n",
    "- item number in session\n",
    "- last name of user\n",
    "- length of the song\n",
    "- level (paid or free song)\n",
    "- location of the user\n",
    "- sessionId\n",
    "- song title\n",
    "- userId\n",
    "\n",
    "The image below is a screenshot of what the denormalized data should appear like in the <font color=red>**event_datafile_new.csv**</font> after the code above is run:<br>\n",
    "\n",
    "<img src=\"images/image_event_datafile_new.jpg\">"
   ]
  },
  {
   "cell_type": "markdown",
   "metadata": {},
   "source": [
    "## Begin writing your Apache Cassandra code in the cells below"
   ]
  },
  {
   "cell_type": "markdown",
   "metadata": {},
   "source": [
    "#### Creating a Cluster"
   ]
  },
  {
   "cell_type": "code",
   "execution_count": 5,
   "metadata": {},
   "outputs": [
    {
     "ename": "NoHostAvailable",
     "evalue": "('Unable to connect to any servers', {'0.0.0.0:9042': ConnectionRefusedError(61, \"Tried connecting to [('0.0.0.0', 9042)]. Last error: Connection refused\")})",
     "output_type": "error",
     "traceback": [
      "\u001b[0;31m---------------------------------------------------------------------------\u001b[0m",
      "\u001b[0;31mNoHostAvailable\u001b[0m                           Traceback (most recent call last)",
      "Cell \u001b[0;32mIn[5], line 7\u001b[0m\n\u001b[1;32m      4\u001b[0m cluster \u001b[38;5;241m=\u001b[39m Cluster([\u001b[38;5;124m'\u001b[39m\u001b[38;5;124m0.0.0.0\u001b[39m\u001b[38;5;124m'\u001b[39m])\n\u001b[1;32m      6\u001b[0m \u001b[38;5;66;03m# To establish connection and begin executing queries, need a session\u001b[39;00m\n\u001b[0;32m----> 7\u001b[0m session \u001b[38;5;241m=\u001b[39m \u001b[43mcluster\u001b[49m\u001b[38;5;241;43m.\u001b[39;49m\u001b[43mconnect\u001b[49m\u001b[43m(\u001b[49m\u001b[43m)\u001b[49m\n\u001b[1;32m      8\u001b[0m \u001b[38;5;66;03m# Set output query output to dict instead of named tuple\u001b[39;00m\n\u001b[1;32m      9\u001b[0m session\u001b[38;5;241m.\u001b[39mrow_factory \u001b[38;5;241m=\u001b[39m dict_factory\n",
      "File \u001b[0;32m/opt/anaconda3/envs/ud_env/lib/python3.12/site-packages/cassandra/cluster.py:1717\u001b[0m, in \u001b[0;36mcassandra.cluster.Cluster.connect\u001b[0;34m()\u001b[0m\n",
      "File \u001b[0;32m/opt/anaconda3/envs/ud_env/lib/python3.12/site-packages/cassandra/cluster.py:1753\u001b[0m, in \u001b[0;36mcassandra.cluster.Cluster.connect\u001b[0;34m()\u001b[0m\n",
      "File \u001b[0;32m/opt/anaconda3/envs/ud_env/lib/python3.12/site-packages/cassandra/cluster.py:1740\u001b[0m, in \u001b[0;36mcassandra.cluster.Cluster.connect\u001b[0;34m()\u001b[0m\n",
      "File \u001b[0;32m/opt/anaconda3/envs/ud_env/lib/python3.12/site-packages/cassandra/cluster.py:3543\u001b[0m, in \u001b[0;36mcassandra.cluster.ControlConnection.connect\u001b[0;34m()\u001b[0m\n",
      "File \u001b[0;32m/opt/anaconda3/envs/ud_env/lib/python3.12/site-packages/cassandra/cluster.py:3588\u001b[0m, in \u001b[0;36mcassandra.cluster.ControlConnection._reconnect_internal\u001b[0;34m()\u001b[0m\n",
      "\u001b[0;31mNoHostAvailable\u001b[0m: ('Unable to connect to any servers', {'0.0.0.0:9042': ConnectionRefusedError(61, \"Tried connecting to [('0.0.0.0', 9042)]. Last error: Connection refused\")})"
     ]
    }
   ],
   "source": [
    "# This should make a connection to a Cassandra instance your local machine \n",
    "# (127.0.0.1)\n",
    "# Connected to local docker container with default address set to (0.0.0.0)\n",
    "cluster = Cluster(['0.0.0.0'])\n",
    "\n",
    "# To establish connection and begin executing queries, need a session\n",
    "session = cluster.connect()\n",
    "# Set output query output to dict instead of named tuple\n",
    "session.row_factory = dict_factory"
   ]
  },
  {
   "cell_type": "markdown",
   "metadata": {},
   "source": [
    "#### Create Keyspace"
   ]
  },
  {
   "cell_type": "code",
   "execution_count": 6,
   "metadata": {},
   "outputs": [],
   "source": [
    "try:\n",
    "    # Create a Keyspace \n",
    "    session.execute(\"\"\"\n",
    "                    CREATE KEYSPACE IF NOT EXISTS sparkify \n",
    "                    WITH REPLICATION = {'class' : 'SimpleStrategy','replication_factor' : 1};\n",
    "                    \"\"\")\n",
    "except Exception as e:\n",
    "    print(e)"
   ]
  },
  {
   "cell_type": "markdown",
   "metadata": {},
   "source": [
    "#### Set Keyspace"
   ]
  },
  {
   "cell_type": "code",
   "execution_count": 7,
   "metadata": {},
   "outputs": [],
   "source": [
    "# Set KEYSPACE to the keyspace specified above\n",
    "session.set_keyspace('sparkify')"
   ]
  },
  {
   "cell_type": "markdown",
   "metadata": {},
   "source": [
    "### Explore pre-processed data"
   ]
  },
  {
   "cell_type": "code",
   "execution_count": null,
   "metadata": {},
   "outputs": [],
   "source": [
    "df = pd.read_csv('event_datafile_new.csv')\n",
    "df.head()"
   ]
  },
  {
   "cell_type": "code",
   "execution_count": 9,
   "metadata": {},
   "outputs": [],
   "source": [
    "#df.loc[(df['sessionId'] == 338) & (df['itemInSession'] == 4)]\n",
    "#df.loc[df['song'] == 'All Hands Against His Own']"
   ]
  },
  {
   "cell_type": "markdown",
   "metadata": {},
   "source": [
    "### Now we need to create tables to run the following queries. Remember, with Apache Cassandra you model the database tables on the queries you want to run."
   ]
  },
  {
   "cell_type": "markdown",
   "metadata": {},
   "source": [
    "## Create queries to ask the following three questions of the data\n",
    "\n",
    "1. Give me the artist, song title and song's length in the music app history that was heard during  sessionId = 338, and itemInSession  = 4\n",
    "\n",
    "\n",
    "2. Give me only the following: name of artist, song (sorted by itemInSession) and user (first and last name) for userid = 10, sessionid = 182\n",
    "    \n",
    "\n",
    "3. Give me every user name (first and last) in my music app history who listened to the song 'All Hands Against His Own'\n",
    "\n",
    "\n"
   ]
  },
  {
   "cell_type": "code",
   "execution_count": null,
   "metadata": {},
   "outputs": [],
   "source": [
    "# Query 1:  Give me the artist, song title and song's length in the music app history that was heard during \\\n",
    "# sessionId = 338, and itemInSession = 4\n",
    "\n",
    "create_tb_query_1 = \"\"\"\n",
    "                    CREATE TABLE IF NOT EXISTS sessions (\n",
    "                    artist TEXT, song TEXT, length DECIMAL, session_id INT, itemln_session INT, \n",
    "                    PRIMARY KEY (session_id, itemln_session)\n",
    "                    );\n",
    "                    \"\"\"\n",
    "\n",
    "# Query 2: Give me only the following: name of artist, song (sorted by itemInSession) and user (first and last name)\\\n",
    "# for userid = 10, sessionid = 182\n",
    "\n",
    "create_tb_query_2 = \"\"\"\n",
    "                    CREATE TABLE IF NOT EXISTS song_playlist_session (\n",
    "                    artist TEXT, song TEXT, item_in_session INT, first_name TEXT, last_name TEXT, user_id INT, session_id INT,\n",
    "                    PRIMARY KEY ((user_id, session_id), item_in_session))\n",
    "                    WITH CLUSTERING ORDER BY (item_in_session ASC)\n",
    "                    \"\"\"\n",
    "\n",
    "# Query 3: Give me every user name (first and last) in my music app history who listened to the song 'All Hands Against His Own'\n",
    "\n",
    "create_tb_query_3 = \"\"\"\n",
    "                    CREATE TABLE IF NOT EXISTS songs_history (\n",
    "                    user_id INT, first_name TEXT, last_name TEXT, song TEXT, \n",
    "                    PRIMARY KEY ((song), user_id)\n",
    "                    );\n",
    "                    \"\"\"\n",
    "\n",
    "# Drop tables in order to make sure the new data is inserted correctly\n",
    "session.execute(\"DROP TABLE IF EXISTS song_playlist_session\")\n",
    "session.execute(\"DROP TABLE IF EXISTS song_playlist_session\")\n",
    "session.execute(\"DROP TABLE IF EXISTS songs_history\")\n",
    "\n",
    "session.execute(create_tb_query_1)\n",
    "session.execute(create_tb_query_2)\n",
    "session.execute(create_tb_query_3)"
   ]
  },
  {
   "cell_type": "code",
   "execution_count": 11,
   "metadata": {
    "scrolled": false
   },
   "outputs": [],
   "source": [
    "file = 'event_datafile_new.csv'\n",
    "\n",
    "with open(file, encoding = 'utf8') as f:\n",
    "    csvreader = csv.reader(f)\n",
    "    next(csvreader) # skip header\n",
    "    for line in csvreader:\n",
    "        # Insert into first table 1\n",
    "        insert_query_1 = \"INSERT INTO songs_library_1 (artist, song, length, session_id, itemln_session)\"\n",
    "        insert_query_1 = insert_query_1 + \"VALUES (%s, %s, %s, %s, %s)\"\n",
    "        session.execute(insert_query_1, (line[0], line[9], float(line[5]), int(line[8]), int(line[3])))\n",
    "        # Insert into second table 2\n",
    "        insert_query_2 = \"INSERT INTO song_playlist_session (artist, song, item_in_session, first_name, last_name, user_id, session_id)\"\n",
    "        insert_query_2 = insert_query_2 + \"VALUES (%s, %s, %s, %s, %s, %s, %s)\"\n",
    "        session.execute(insert_query_2, (line[0], line[9], int(line[3]), line[1], line[4], int(line[-1]), int(line[8])))\n",
    "        # Insert into second table 3\n",
    "        insert_query_3 = \"INSERT INTO songs_history (user_id, first_name, last_name, song)\"\n",
    "        insert_query_3 = insert_query_3 + \"VALUES (%s, %s, %s, %s)\"\n",
    "        session.execute(insert_query_3, (int(line[-1]), line[1], line[4], line[-2]))"
   ]
  },
  {
   "cell_type": "markdown",
   "metadata": {},
   "source": [
    "#### Do a SELECT to verify that the data have been inserted into each table"
   ]
  },
  {
   "cell_type": "code",
   "execution_count": null,
   "metadata": {
    "scrolled": true
   },
   "outputs": [],
   "source": [
    "## Query 1:  Give me the artist, song title and song's length in the music app history that was heard during \\\n",
    "## sessionId = 338, and itemInSession = 4\n",
    "select_query_1 = \"\"\"\n",
    "                SELECT artist, song, length\n",
    "                FROM songs_library_1\n",
    "                WHERE session_id = 338 AND itemln_session = 4;\n",
    "                \"\"\"\n",
    "rows_1 = session.execute(select_query_1)\n",
    "df_1 = pd.DataFrame(list(rows_1))\n",
    "df_1"
   ]
  },
  {
   "cell_type": "code",
   "execution_count": null,
   "metadata": {},
   "outputs": [],
   "source": [
    "## TO-DO: Query 2: Give me only the following: name of artist, song (sorted by itemInSession) and user (first and last name)\\\n",
    "## for userid = 10, sessionid = 182\n",
    "select_query_2 = \"\"\"\n",
    "                SELECT artist, song, item_in_session, first_name, last_name\n",
    "                FROM song_playlist_session\n",
    "                WHERE user_id = 10 AND session_id = 182;\n",
    "                \"\"\"\n",
    "rows_2 = session.execute(select_query_2)\n",
    "df_2 = pd.DataFrame(list(rows_2))\n",
    "df_2"
   ]
  },
  {
   "cell_type": "code",
   "execution_count": null,
   "metadata": {},
   "outputs": [],
   "source": [
    "## Query 3: Give me every user name (first and last) in my music app history who listened to the song 'All Hands Against His Own'\n",
    "select_query_3 = \"\"\"\n",
    "                SELECT first_name, last_name\n",
    "                FROM songs_history\n",
    "                WHERE song = 'All Hands Against His Own';\n",
    "                \"\"\"\n",
    "rows_3 = session.execute(select_query_3)\n",
    "df_3 = pd.DataFrame(list(rows_3))\n",
    "df_3                    "
   ]
  },
  {
   "cell_type": "markdown",
   "metadata": {},
   "source": [
    "### Drop the tables before closing out the sessions"
   ]
  },
  {
   "cell_type": "code",
   "execution_count": null,
   "metadata": {},
   "outputs": [],
   "source": [
    "session.execute(\"DROP TABLE IF EXISTS songs_library_1\")\n",
    "session.execute(\"DROP TABLE IF EXISTS song_playlist_session\")\n",
    "session.execute(\"DROP TABLE IF EXISTS songs_history\")"
   ]
  },
  {
   "cell_type": "markdown",
   "metadata": {},
   "source": [
    "### Close the session and cluster connection¶"
   ]
  },
  {
   "cell_type": "code",
   "execution_count": 16,
   "metadata": {},
   "outputs": [],
   "source": [
    "session.shutdown()\n",
    "cluster.shutdown()"
   ]
  }
 ],
 "metadata": {
  "kernelspec": {
   "display_name": "ud_env",
   "language": "python",
   "name": "python3"
  },
  "language_info": {
   "codemirror_mode": {
    "name": "ipython",
    "version": 3
   },
   "file_extension": ".py",
   "mimetype": "text/x-python",
   "name": "python",
   "nbconvert_exporter": "python",
   "pygments_lexer": "ipython3",
   "version": "3.12.2"
  }
 },
 "nbformat": 4,
 "nbformat_minor": 2
}
